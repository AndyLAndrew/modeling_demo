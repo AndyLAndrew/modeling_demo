{
 "cells": [
  {
   "cell_type": "code",
   "execution_count": 1,
   "outputs": [],
   "source": [
    "import string\n",
    "import random\n",
    "import torch\n",
    "import torch.nn as nn\n",
    "import matplotlib.pyplot as plt\n",
    "import numpy as np"
   ],
   "metadata": {
    "collapsed": false,
    "pycharm": {
     "name": "#%%\n"
    },
    "ExecuteTime": {
     "end_time": "2024-02-01T06:03:15.063871Z",
     "start_time": "2024-02-01T06:03:13.927464Z"
    }
   }
  },
  {
   "cell_type": "markdown",
   "metadata": {},
   "source": [
    "#### Prepare for Dataset"
   ]
  },
  {
   "cell_type": "code",
   "execution_count": 2,
   "metadata": {
    "ExecuteTime": {
     "end_time": "2024-02-01T06:03:15.067901Z",
     "start_time": "2024-02-01T06:03:15.065337Z"
    }
   },
   "outputs": [],
   "source": [
    "# Get a random sequence of sine curve.\n",
    "def get_random_seq():\n",
    "    seq_len     = 128  # The length of an input sequence.\n",
    "    # Sample a sequence.\n",
    "    t = np.arange(0, seq_len) \n",
    "    a = 2*np.pi*1.0/seq_len\n",
    "    b = 2*np.pi*np.random.rand()*5 \n",
    "    seq = np.sin(a*t+b)\n",
    "    return seq\n",
    "\n",
    "# Sample a mini-batch including input tensor and target tensor.\n",
    "def get_input_and_target():\n",
    "    seq    = get_random_seq()\n",
    "    input  = torch.tensor(seq[:-1]).float().view(-1,1,1) # Input sequence.\n",
    "    target = torch.tensor(seq[1:]).float().view(-1,1,1)  # Target sequence.\n",
    "    return input, target"
   ]
  },
  {
   "cell_type": "markdown",
   "metadata": {},
   "source": [
    "#### Choose a Device"
   ]
  },
  {
   "cell_type": "code",
   "execution_count": 3,
   "metadata": {
    "ExecuteTime": {
     "end_time": "2024-02-01T06:03:15.090546Z",
     "start_time": "2024-02-01T06:03:15.087336Z"
    }
   },
   "outputs": [
    {
     "name": "stdout",
     "output_type": "stream",
     "text": [
      "mps\n"
     ]
    }
   ],
   "source": [
    "# If there are GPUs, choose the first one for computing. Otherwise use CPU.\n",
    "device = torch.device(\"mps\" if torch.backends.mps.is_available() else \"cpu\")\n",
    "print(device)  \n",
    "# If 'cuda:0' is printed, it means GPU is available."
   ]
  },
  {
   "cell_type": "markdown",
   "metadata": {},
   "source": [
    "#### Network Definition"
   ]
  },
  {
   "cell_type": "code",
   "execution_count": 4,
   "metadata": {
    "ExecuteTime": {
     "end_time": "2024-02-01T06:03:15.143920Z",
     "start_time": "2024-02-01T06:03:15.092224Z"
    }
   },
   "outputs": [
    {
     "data": {
      "text/plain": "Net(\n  (rnn_cell): RNNCell(1, 100)\n  (linear): Linear(in_features=100, out_features=1, bias=True)\n)"
     },
     "execution_count": 4,
     "metadata": {},
     "output_type": "execute_result"
    }
   ],
   "source": [
    "class Net(nn.Module):\n",
    "    def __init__(self):\n",
    "        # Initialization.\n",
    "        super(Net, self).__init__()\n",
    "        self.input_size  = 1###### To be filled ######\n",
    "        self.hidden_size = 100       # Hidden size: 100.\n",
    "        self.output_size = 1###### To be filled ######\n",
    "\n",
    "        ###FILLED###\n",
    "        self.rnn_cell = nn.RNNCell(self.input_size, self.hidden_size)\n",
    "        self.linear = nn.Linear(self.hidden_size, self.output_size)\n",
    "        ###FILLED###\n",
    "\n",
    "    def forward(self, input, hidden):\n",
    "        \"\"\" Forward function.\n",
    "              input:  Input. It refers to the x_t in homework write-up.\n",
    "              hidden: Previous hidden state. It refers to the h_{t-1}.\n",
    "            Returns (output, hidden) where output refers to y_t and \n",
    "                     hidden refers to h_t.\n",
    "        \"\"\"\n",
    "\n",
    "        # Forward function.\n",
    "        hidden = self.rnn_cell(input, hidden)\n",
    "        output = self.linear(hidden)\n",
    "\n",
    "        return output, hidden\n",
    "\n",
    "    def init_hidden(self):\n",
    "        # Initial hidden state.\n",
    "        # 1 means batch size = 1.\n",
    "        return torch.zeros(1, self.hidden_size).to(device) \n",
    "    \n",
    "net = Net()     # Create the network instance.\n",
    "net.to(device)  # Move the network parameters to the specified device."
   ]
  },
  {
   "cell_type": "markdown",
   "metadata": {},
   "source": [
    "#### Training Step and Evaluation Step"
   ]
  },
  {
   "cell_type": "code",
   "execution_count": 5,
   "metadata": {
    "ExecuteTime": {
     "end_time": "2024-02-01T06:03:15.147289Z",
     "start_time": "2024-02-01T06:03:15.145286Z"
    }
   },
   "outputs": [],
   "source": [
    "# Training step function.\n",
    "def train_step(net, opt, input, target):\n",
    "    \"\"\" Training step.\n",
    "        net:    The network instance.\n",
    "        opt:    The optimizer instance.\n",
    "        input:  Input tensor.  Shape: [seq_len, 1, 1].\n",
    "        target: Target tensor. Shape: [seq_len, 1].\n",
    "    \"\"\"\n",
    "    seq_len = input.shape[0]    # Get the sequence length of current input.\n",
    "    hidden = net.init_hidden()  # Initial hidden state.\n",
    "    net.zero_grad()             # Clear the gradient.\n",
    "    loss = 0                    # Initial loss.\n",
    "\n",
    "    for t in range(seq_len):    # For each one in the input sequence.\n",
    "        output, hidden = net(input[t], hidden)\n",
    "        loss += loss_func(output, target[t])\n",
    "\n",
    "    loss.backward()             # Backward. \n",
    "    opt.step()                  # Update the weights.\n",
    "\n",
    "    return loss / seq_len       # Return the average loss w.r.t sequence length."
   ]
  },
  {
   "cell_type": "code",
   "execution_count": 6,
   "metadata": {
    "ExecuteTime": {
     "end_time": "2024-02-01T06:03:15.150717Z",
     "start_time": "2024-02-01T06:03:15.147615Z"
    }
   },
   "outputs": [],
   "source": [
    "# Evaluation step function.\n",
    "def eval_step(net, predicted_len=100):\n",
    "    # Initialize the hidden state, input and the predicted sequence.\n",
    "    hidden        = net.init_hidden()\n",
    "    init_seq      = get_random_seq()\n",
    "    init_input    = torch.tensor(init_seq).float().view(-1,1,1).to(device)\n",
    "    predicted_seq = []\n",
    "\n",
    "    # Use initial points on the curve to \"build up\" hidden state.\n",
    "    for t in range(len(init_seq) - 1):\n",
    "        output, hidden = net(init_input[t], hidden)\n",
    "        \n",
    "    # Set current input as the last character of the initial string.\n",
    "    input = init_input[-1]\n",
    "    \n",
    "    # Predict more points after the initial string.\n",
    "    for t in range(predicted_len):\n",
    "        # Get the current output and hidden state.\n",
    "        output, hidden = net(input, hidden)\n",
    "        \n",
    "        # Add predicted point to the sequence and use it as next input.\n",
    "        predicted_seq.append(output.item())\n",
    "        \n",
    "        # Use the predicted point to generate the input of next round.\n",
    "        input = output\n",
    "\n",
    "    return init_seq, predicted_seq"
   ]
  },
  {
   "cell_type": "markdown",
   "metadata": {},
   "source": [
    "#### Training Procedure"
   ]
  },
  {
   "cell_type": "code",
   "execution_count": 7,
   "metadata": {
    "scrolled": true,
    "ExecuteTime": {
     "end_time": "2024-02-01T06:03:48.925510Z",
     "start_time": "2024-02-01T06:03:15.152450Z"
    }
   },
   "outputs": [
    {
     "name": "stdout",
     "output_type": "stream",
     "text": [
      "iter:9/200 loss:0.22591301798820496\n",
      "iter:19/200 loss:0.03411274030804634\n",
      "iter:29/200 loss:0.009617986157536507\n",
      "iter:39/200 loss:0.005381282884627581\n",
      "iter:49/200 loss:0.0033713895827531815\n",
      "iter:59/200 loss:0.0030638733878731728\n",
      "iter:69/200 loss:0.0028117839246988297\n",
      "iter:79/200 loss:0.0020837055053561926\n",
      "iter:89/200 loss:0.0023014729376882315\n",
      "iter:99/200 loss:0.002544430550187826\n",
      "iter:109/200 loss:0.0022301762364804745\n",
      "iter:119/200 loss:0.0016230341279879212\n",
      "iter:129/200 loss:0.0018837429815903306\n",
      "iter:139/200 loss:0.0019268527394160628\n",
      "iter:149/200 loss:0.0014777010073885322\n",
      "iter:159/200 loss:0.0016627352451905608\n",
      "iter:169/200 loss:0.0017195919062942266\n",
      "iter:179/200 loss:0.0017226511845365167\n",
      "iter:189/200 loss:0.0020515015348792076\n",
      "iter:199/200 loss:0.001920025097206235\n"
     ]
    }
   ],
   "source": [
    "# Number of iterations.\n",
    "iters       = 200    # Number of training iterations.\n",
    "print_iters = 10     # Number of iterations for each log printing.\n",
    "\n",
    "# The loss variables.\n",
    "all_losses = []\n",
    "loss_sum   = 0\n",
    "\n",
    "# Initialize the optimizer and the loss function.\n",
    "opt       = torch.optim.Adam(net.parameters(), lr=0.005)\n",
    "loss_func = nn.MSELoss()\n",
    "\n",
    "# Training procedure.\n",
    "for i in range(iters):\n",
    "    input, target = get_input_and_target()            # Fetch input and target.\n",
    "    input, target = input.to(device), target.to(device) # Move to GPU memory.\n",
    "    loss      = train_step(net, opt, input, target)   # Calculate the loss.\n",
    "    loss_sum += loss                                  # Accumulate the loss.\n",
    "\n",
    "    # Print the log.\n",
    "    if i % print_iters == print_iters - 1:\n",
    "        print('iter:{}/{} loss:{}'.format(i, iters, loss_sum / print_iters))\n",
    "        #print('generated sequence: {}\\n'.format(eval_step(net)))\n",
    "              \n",
    "        # Track the loss.\n",
    "        all_losses.append(loss_sum / print_iters)\n",
    "        loss_sum = 0"
   ]
  },
  {
   "cell_type": "markdown",
   "metadata": {},
   "source": [
    "#### Training Loss Curve"
   ]
  },
  {
   "cell_type": "code",
   "execution_count": 8,
   "outputs": [
    {
     "data": {
      "text/plain": "[tensor(0.2259, device='mps:0', grad_fn=<DivBackward0>),\n tensor(0.0341, device='mps:0', grad_fn=<DivBackward0>),\n tensor(0.0096, device='mps:0', grad_fn=<DivBackward0>),\n tensor(0.0054, device='mps:0', grad_fn=<DivBackward0>),\n tensor(0.0034, device='mps:0', grad_fn=<DivBackward0>),\n tensor(0.0031, device='mps:0', grad_fn=<DivBackward0>),\n tensor(0.0028, device='mps:0', grad_fn=<DivBackward0>),\n tensor(0.0021, device='mps:0', grad_fn=<DivBackward0>),\n tensor(0.0023, device='mps:0', grad_fn=<DivBackward0>),\n tensor(0.0025, device='mps:0', grad_fn=<DivBackward0>),\n tensor(0.0022, device='mps:0', grad_fn=<DivBackward0>),\n tensor(0.0016, device='mps:0', grad_fn=<DivBackward0>),\n tensor(0.0019, device='mps:0', grad_fn=<DivBackward0>),\n tensor(0.0019, device='mps:0', grad_fn=<DivBackward0>),\n tensor(0.0015, device='mps:0', grad_fn=<DivBackward0>),\n tensor(0.0017, device='mps:0', grad_fn=<DivBackward0>),\n tensor(0.0017, device='mps:0', grad_fn=<DivBackward0>),\n tensor(0.0017, device='mps:0', grad_fn=<DivBackward0>),\n tensor(0.0021, device='mps:0', grad_fn=<DivBackward0>),\n tensor(0.0019, device='mps:0', grad_fn=<DivBackward0>)]"
     },
     "execution_count": 8,
     "metadata": {},
     "output_type": "execute_result"
    }
   ],
   "source": [
    "all_losses\n"
   ],
   "metadata": {
    "collapsed": false,
    "pycharm": {
     "name": "#%%\n"
    },
    "ExecuteTime": {
     "end_time": "2024-02-01T06:03:50.951959Z",
     "start_time": "2024-02-01T06:03:48.924814Z"
    }
   }
  },
  {
   "cell_type": "code",
   "execution_count": 9,
   "metadata": {
    "ExecuteTime": {
     "end_time": "2024-02-01T06:03:51.020107Z",
     "start_time": "2024-02-01T06:03:50.950822Z"
    }
   },
   "outputs": [
    {
     "data": {
      "text/plain": "<Figure size 640x480 with 1 Axes>",
      "image/png": "[encoded data removed]"
     },
     "metadata": {},
     "output_type": "display_data"
    }
   ],
   "source": [
    "# manually added due to using mps\n",
    "all_losses_numpy = [tensor.detach().cpu().numpy() for tensor in all_losses]\n",
    "\n",
    "plt.xlabel('iters')\n",
    "plt.ylabel('loss')\n",
    "plt.plot(all_losses_numpy)\n",
    "plt.show()"
   ]
  },
  {
   "cell_type": "markdown",
   "metadata": {},
   "source": [
    "#### Evaluation: A Sample of Generated Sequence"
   ]
  },
  {
   "cell_type": "code",
   "execution_count": 10,
   "metadata": {
    "scrolled": true,
    "ExecuteTime": {
     "end_time": "2024-02-01T06:03:51.181746Z",
     "start_time": "2024-02-01T06:03:51.019654Z"
    }
   },
   "outputs": [
    {
     "data": {
      "text/plain": "<Figure size 640x480 with 1 Axes>",
      "image/png": "[encoded data removed]"
     },
     "metadata": {},
     "output_type": "display_data"
    }
   ],
   "source": [
    "init_seq, predicted_seq = eval_step(net, predicted_len=100)\n",
    "init_t      = np.arange(0, len(init_seq))\n",
    "predicted_t = np.arange(len(init_seq), len(init_seq)+len(predicted_seq))\n",
    "plt.plot(init_t, init_seq, label='initial')\n",
    "plt.plot(predicted_t, predicted_seq, color='red', label='predicted')\n",
    "plt.legend()\n",
    "plt.ylim([-1, 1])\n",
    "plt.xlabel('time')\n",
    "plt.ylabel('signal')\n",
    "plt.show()"
   ]
  }
 ],
 "metadata": {
  "kernelspec": {
   "display_name": "Python 3",
   "language": "python",
   "name": "python3"
  },
  "language_info": {
   "codemirror_mode": {
    "name": "ipython",
    "version": 3
   },
   "file_extension": ".py",
   "mimetype": "text/x-python",
   "name": "python",
   "nbconvert_exporter": "python",
   "pygments_lexer": "ipython3",
   "version": "3.7.3"
  },
  "toc": {
   "base_numbering": 1,
   "nav_menu": {},
   "number_sections": true,
   "sideBar": true,
   "skip_h1_title": false,
   "title_cell": "Table of Contents",
   "title_sidebar": "Contents",
   "toc_cell": false,
   "toc_position": {},
   "toc_section_display": true,
   "toc_window_display": false
  }
 },
 "nbformat": 4,
 "nbformat_minor": 1
}
